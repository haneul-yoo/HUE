{
 "cells": [
  {
   "cell_type": "code",
   "execution_count": null,
   "id": "ad8e9019",
   "metadata": {},
   "outputs": [],
   "source": [
    "import pandas as pd\n",
    "import numpy as np\n",
    "import tensorflow as tf\n",
    "import torch\n",
    "import os\n",
    "import random\n",
    "import csv\n",
    "import gc"
   ]
  },
  {
   "cell_type": "code",
   "execution_count": null,
   "id": "0ef8b495",
   "metadata": {},
   "outputs": [],
   "source": [
    "os.environ[\"CUDA_DEVICE_ORDER\"] = \"PCI_BUS_ID\"\n",
    "os.environ[\"CUDA_VISIBLE_DEVICES\"] = \"\"\n",
    "device = torch.device(\"cuda\" if torch.cuda.is_available() else \"cpu\")\n",
    "device"
   ]
  },
  {
   "cell_type": "code",
   "execution_count": null,
   "id": "79babee9",
   "metadata": {},
   "outputs": [],
   "source": [
    "random_seed = 42\n",
    "torch.manual_seed(random_seed)\n",
    "torch.cuda.manual_seed(random_seed)\n",
    "torch.cuda.manual_seed_all(random_seed)\n",
    "torch.backends.cudnn.deterministic = True\n",
    "torch.backends.cudnn.benchmark = False\n",
    "np.random.seed(random_seed)\n",
    "random.seed(random_seed)"
   ]
  },
  {
   "cell_type": "code",
   "execution_count": null,
   "id": "70eb4fd2",
   "metadata": {},
   "outputs": [],
   "source": [
    "path = \".\"\n",
    "\n",
    "output_path = path + \"/output\"\n",
    "logging_path = path + \"/logs\"\n",
    "\n",
    "model_path = path + \"../model\"\n",
    "data_path = path + \"../dataset/HUE_Named_Entity_Recognition\"\n",
    "\n",
    "train_data_path = data_path + \"/HUE_Named_Entity_Recognition_train.csv\"\n",
    "eval_data_path = data_path + \"/HUE_Named_Entity_Recognition_dev.csv\"\n",
    "test_data_path = data_path + \"/HUE_Named_Entity_Recognition_test.csv\""
   ]
  },
  {
   "cell_type": "code",
   "execution_count": null,
   "id": "63db6519",
   "metadata": {},
   "outputs": [],
   "source": [
    "model_map = {\n",
    "    \"bert-not-pretrained\": {\n",
    "        \"tokenizer\": \"bert-base-multilingual-cased\",\n",
    "        \"model\": \"\",\n",
    "        \"output\": output_path + \"/bert-not-pretrained\",\n",
    "        \"logs\": logging_path + \"/bert-not-pretrained\",\n",
    "    },\n",
    "    \"AnchiBERT\": {\n",
    "        \"tokenizer\": path + \"/model/AnchiBERT\", # path to AnchiBERT\n",
    "        \"model\": path + \"/model/AnchiBERT\", # path to AnchiBERT\n",
    "        \"output\": output_path + \"/AnchiBERT\",\n",
    "        \"logs\": logging_path + \"/AnchiBERT\"\n",
    "    },\n",
    "    \"mBERT\": {\n",
    "        \"tokenizer\": \"bert-base-multilingual-cased\",\n",
    "        \"model\": \"bert-base-multilingual-cased\",\n",
    "        \"output\": output_path + \"/bert-base-multilingual-cased\",\n",
    "        \"logs\": logging_path + \"/bert-base-multilingual-cased\"\n",
    "    },\n",
    "    \"AnchiBERT+AJD-DRS\": {\n",
    "        \"tokenizer\": model_path + \"/AnchiBERT+AJD-DRS\",\n",
    "        \"model\": model_path + \"/AnchiBERT+AJD-DRS\",\n",
    "        \"output\": output_path + \"/AnchiBERT+AJD-DRS\",\n",
    "        \"logs\": logging_path + \"/AnchiBERT+AJD-DRS\"\n",
    "        \n",
    "    },\n",
    "    \"mBERT+AJD-DRS\": {\n",
    "        \"tokenizer\": model_path + \"/mBERT+AJD-DRS\",\n",
    "        \"model\": model_path + \"/mBERT+AJD-DRS\",\n",
    "        \"output\": output_path + \"/mBERT+AJD-DRS\",\n",
    "        \"logs\": logging_path + \"/mBERT+AJD-DRS\"\n",
    "    }\n",
    "}"
   ]
  },
  {
   "cell_type": "code",
   "execution_count": null,
   "id": "7adb8a38",
   "metadata": {
    "scrolled": true
   },
   "outputs": [],
   "source": [
    "train_data = pd.read_csv(train_data_path, error_bad_lines=False)\n",
    "eval_data = pd.read_csv(eval_data_path, error_bad_lines=False)\n",
    "test_data = pd.read_csv(test_data_path, error_bad_lines=False)\n",
    "train_data, eval_data, test_data = train_data.dropna(), eval_data.dropna(), test_data.dropna()\n",
    "train_data"
   ]
  },
  {
   "cell_type": "code",
   "execution_count": null,
   "id": "9bfa62c5",
   "metadata": {},
   "outputs": [],
   "source": [
    "def data2feature(data):\n",
    "    texts = train_data['text_ch'].str.split('').str[1:-1].tolist()\n",
    "    tags = train_data['tag'].apply(lambda x:list(literal_eval(x))).tolist()\n",
    "    return texts, tags"
   ]
  },
  {
   "cell_type": "code",
   "execution_count": null,
   "id": "bf5aeb47",
   "metadata": {},
   "outputs": [],
   "source": [
    "train_texts, train_tags = data2feature(train_data)\n",
    "eval_texts, eval_tags = data2feature(eval_data)\n",
    "test_texts, test_tags = data2feature(test_data)\n",
    "\n",
    "tags = train_tags + eval_tags + test_tags"
   ]
  },
  {
   "cell_type": "code",
   "execution_count": null,
   "id": "f122e492",
   "metadata": {},
   "outputs": [],
   "source": [
    "unique_tags = set(tag for doc in tags for tag in doc)\n",
    "tag2id = {tag: id for id, tag in enumerate(unique_tags)}\n",
    "id2tag = {id: tag for tag, id in tag2id.items()}"
   ]
  },
  {
   "cell_type": "code",
   "execution_count": null,
   "id": "3ed7732d",
   "metadata": {},
   "outputs": [],
   "source": [
    "class CustomDataset(torch.utils.data.Dataset):\n",
    "    def __init__(self, encodings, labels):\n",
    "        self.encodings = encodings\n",
    "        self.labels = labels\n",
    "    def __getitem__(self, idx):\n",
    "        item = {key: torch.tensor(val[idx]) for key, val in self.encodings.items()}\n",
    "        item['labels'] = torch.tensor(self.labels[idx])\n",
    "        return item\n",
    "    def __len__(self):\n",
    "        return len(self.labels)"
   ]
  },
  {
   "cell_type": "code",
   "execution_count": null,
   "id": "cc1ed723",
   "metadata": {},
   "outputs": [],
   "source": [
    "def encode_tags(tags, encodings):\n",
    "    labels = [[tag2id[tag] for tag in doc] for doc in tags]\n",
    "    encoded_labels = []\n",
    "    for doc_labels, doc_offset in zip(labels, encodings.offset_mapping):\n",
    "        \n",
    "        doc_enc_labels = np.ones(len(doc_offset),dtype=int) * -100\n",
    "        arr_offset = np.array(doc_offset)\n",
    "        \n",
    "        doc_enc_labels[(arr_offset[:,0] == 0) & (arr_offset[:,1] != 0)] = doc_labels[:min(512, sum((arr_offset[:,0] == 0) & (arr_offset[:,1] != 0)))]\n",
    "        encoded_labels.append(doc_enc_labels.tolist())\n",
    "\n",
    "    return encoded_labels"
   ]
  },
  {
   "cell_type": "code",
   "execution_count": null,
   "id": "4f62e293",
   "metadata": {},
   "outputs": [],
   "source": [
    "from datasets import load_metric\n",
    "\n",
    "def compute_metrics(p):\n",
    "    metric = load_metric(\"seqeval\")\n",
    "    \n",
    "    predictions, labels = p\n",
    "    predictions = np.argmax(predictions, axis=2)\n",
    "    \n",
    "    label_list = sorted(list(unique_tags))\n",
    "    true_predictions = [\n",
    "        [label_list[p] for (p, l) in zip(prediction, label) if l != -100]\n",
    "        for prediction, label in zip(predictions, labels)\n",
    "    ]\n",
    "    true_labels = [\n",
    "        [label_list[l] for (p, l) in zip(prediction, label) if l != -100]\n",
    "        for prediction, label in zip(predictions, labels)\n",
    "    ]\n",
    "    \n",
    "    results = metric.compute(predictions=true_predictions, references=true_labels)\n",
    "    \n",
    "    return results"
   ]
  },
  {
   "cell_type": "code",
   "execution_count": null,
   "id": "4558711b",
   "metadata": {
    "scrolled": false
   },
   "outputs": [],
   "source": [
    "from transformers import BertTokenizerFast, BertConfig, BertForTokenClassification, EarlyStoppingCallback, Trainer, TrainingArguments\n",
    "\n",
    "predict, evaluate = {k: [] for k in model_map.keys()}, {k: [] for k in model_map.keys()}\n",
    "\n",
    "for model_name, model_dict in model_map.items():\n",
    "    tokenizer = BertTokenizerFast.from_pretrained(model_dict[\"tokenizer\"])\n",
    "    \n",
    "    train_encodings = tokenizer(train_texts, is_split_into_words=True, return_offsets_mapping=True, truncation=True, padding=True)\n",
    "    eval_encodings = tokenizer(eval_texts, is_split_into_words=True, return_offsets_mapping=True, truncation=True, padding=True)\n",
    "    test_encodings = tokenizer(test_texts, is_split_into_words=True, return_offsets_mapping=True, truncation=True, padding=True)\n",
    "    \n",
    "    train_labels = encode_tags(train_tags, train_encodings)\n",
    "    eval_labels = encode_tags(eval_tags, eval_encodings)\n",
    "    test_labels = encode_tags(test_tags, test_encodings)\n",
    "    \n",
    "    train_encodings.pop(\"offset_mapping\")\n",
    "    eval_encodings.pop(\"offset_mapping\")\n",
    "    test_encodings.pop(\"offset_mapping\")\n",
    "    \n",
    "    train_dataset = CustomDataset(train_encodings, train_labels)\n",
    "    eval_dataset = CustomDataset(eval_encodings, eval_labels)\n",
    "    test_dataset = CustomDataset(test_encodings, test_labels)\n",
    "    \n",
    "    args = TrainingArguments(\n",
    "        output_dir=model_dict[\"output\"],\n",
    "        overwrite_output_dir=True,\n",
    "        logging_dir=model_dict[\"logs\"],\n",
    "        logging_steps=5000,\n",
    "        logging_strategy=\"steps\",\n",
    "        num_train_epochs=30,\n",
    "        per_device_train_batch_size=8,\n",
    "        per_device_eval_batch_size=8,\n",
    "        warmup_steps=5000,\n",
    "        weight_decay=0.01,\n",
    "        load_best_model_at_end=True,\n",
    "        evaluation_strategy=\"steps\",\n",
    "        eval_steps=5000,\n",
    "        save_steps=5000,\n",
    "        metric_for_best_model=\"loss\",\n",
    "        do_train=True,\n",
    "        do_eval=True,\n",
    "        do_predict=True\n",
    "    )\n",
    "    if model_name == \"bert-not-pretrained\":\n",
    "        config = BertConfig()\n",
    "        config.num_labels = len(unique_tags)\n",
    "        model = BertForTokenClassification(config)\n",
    "    else:\n",
    "        model = BertForTokenClassification.from_pretrained(model_dict[\"model\"], num_labels=len(unique_tags))\n",
    "    trainer = Trainer(\n",
    "        model=model,\n",
    "        args=args,\n",
    "        callbacks = [EarlyStoppingCallback(early_stopping_patience=3)],\n",
    "        compute_metrics=compute_metrics,\n",
    "        train_dataset=train_dataset,\n",
    "        eval_dataset=eval_dataset\n",
    "    )\n",
    "    \n",
    "    trainer.train()\n",
    "    evaluate[model_name].append(trainer.evaluate())\n",
    "    predict[model_name].append(trainer.predict(eval_dataset))\n",
    "    \n",
    "    del tokenizer, model, args, trainer\n",
    "    \n",
    "    gc.collect()\n",
    "    torch.cuda.empty_cache()"
   ]
  }
 ],
 "metadata": {
  "kernelspec": {
   "display_name": "venv",
   "language": "python",
   "name": "venv"
  },
  "language_info": {
   "codemirror_mode": {
    "name": "ipython",
    "version": 3
   },
   "file_extension": ".py",
   "mimetype": "text/x-python",
   "name": "python",
   "nbconvert_exporter": "python",
   "pygments_lexer": "ipython3",
   "version": "3.8.11"
  }
 },
 "nbformat": 4,
 "nbformat_minor": 5
}
