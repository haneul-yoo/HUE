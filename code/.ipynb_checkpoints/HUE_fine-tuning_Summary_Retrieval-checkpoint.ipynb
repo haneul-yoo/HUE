{
 "cells": [
  {
   "cell_type": "code",
   "execution_count": null,
   "id": "ad8e9019",
   "metadata": {},
   "outputs": [],
   "source": [
    "import pandas as pd\n",
    "import numpy as np\n",
    "import tensorflow as tf\n",
    "import torch\n",
    "import os\n",
    "import random\n",
    "import csv\n",
    "import gc"
   ]
  },
  {
   "cell_type": "code",
   "execution_count": null,
   "id": "0ef8b495",
   "metadata": {},
   "outputs": [],
   "source": [
    "os.environ[\"CUDA_DEVICE_ORDER\"] = \"PCI_BUS_ID\"\n",
    "os.environ[\"CUDA_VISIBLE_DEVICES\"] = \"\"\n",
    "device = torch.device(\"cuda\" if torch.cuda.is_available() else \"cpu\")\n",
    "device"
   ]
  },
  {
   "cell_type": "code",
   "execution_count": null,
   "id": "79babee9",
   "metadata": {},
   "outputs": [],
   "source": [
    "random_seed = 42\n",
    "torch.manual_seed(random_seed)\n",
    "torch.cuda.manual_seed(random_seed)\n",
    "torch.cuda.manual_seed_all(random_seed)\n",
    "torch.backends.cudnn.deterministic = True\n",
    "torch.backends.cudnn.benchmark = False\n",
    "np.random.seed(random_seed)\n",
    "random.seed(random_seed)"
   ]
  },
  {
   "cell_type": "code",
   "execution_count": null,
   "id": "70eb4fd2",
   "metadata": {},
   "outputs": [],
   "source": [
    "path = \".\"\n",
    "\n",
    "output_path = path + \"/output\"\n",
    "logging_path = path + \"/logs\"\n",
    "\n",
    "model_path = path + \"../model\"\n",
    "data_path = path + \"../dataset/HUE_Summary_Retrieval\"\n",
    "\n",
    "train_data_path = data_path + \"/HUE_Summary_Retrieval_train.csv\"\n",
    "eval_data_path = data_path + \"/HUE_Summary_Retrieval_dev.csv\"\n",
    "test_data_path = data_path + \"/HUE_Summary_Retrieval_test.csv\""
   ]
  },
  {
   "cell_type": "code",
   "execution_count": null,
   "id": "63db6519",
   "metadata": {},
   "outputs": [],
   "source": [
    "model_map = {\n",
    "    \"bert-not-pretrained\": {\n",
    "        \"tokenizer\": \"bert-base-multilingual-cased\",\n",
    "        \"model\": \"\",\n",
    "        \"output\": output_path + \"/bert-not-pretrained\",\n",
    "        \"logs\": logging_path + \"/bert-not-pretrained\",\n",
    "    },\n",
    "    \"AnchiBERT\": {\n",
    "        \"tokenizer\": path + \"/model/AnchiBERT\", # path to AnchiBERT\n",
    "        \"model\": path + \"/model/AnchiBERT\", # path to AnchiBERT\n",
    "        \"output\": output_path + \"/AnchiBERT\",\n",
    "        \"logs\": logging_path + \"/AnchiBERT\"\n",
    "    },\n",
    "    \"mBERT\": {\n",
    "        \"tokenizer\": \"bert-base-multilingual-cased\",\n",
    "        \"model\": \"bert-base-multilingual-cased\",\n",
    "        \"output\": output_path + \"/bert-base-multilingual-cased\",\n",
    "        \"logs\": logging_path + \"/bert-base-multilingual-cased\"\n",
    "    },\n",
    "    \"AnchiBERT+AJD-DRS\": {\n",
    "        \"tokenizer\": model_path + \"/AnchiBERT+AJD-DRS\",\n",
    "        \"model\": model_path + \"/AnchiBERT+AJD-DRS\",\n",
    "        \"output\": output_path + \"/AnchiBERT+AJD-DRS\",\n",
    "        \"logs\": logging_path + \"/AnchiBERT+AJD-DRS\"\n",
    "        \n",
    "    },\n",
    "    \"mBERT+AJD-DRS\": {\n",
    "        \"tokenizer\": model_path + \"/mBERT+AJD-DRS\",\n",
    "        \"model\": model_path + \"/mBERT+AJD-DRS\",\n",
    "        \"output\": output_path + \"/mBERT+AJD-DRS\",\n",
    "        \"logs\": logging_path + \"/mBERT+AJD-DRS\"\n",
    "    }\n",
    "}"
   ]
  },
  {
   "cell_type": "code",
   "execution_count": null,
   "id": "7adb8a38",
   "metadata": {
    "scrolled": true
   },
   "outputs": [],
   "source": [
    "train_data = pd.read_csv(train_data_path, error_bad_lines=False)\n",
    "eval_data = pd.read_csv(eval_data_path, error_bad_lines=False)\n",
    "test_data = pd.read_csv(test_data_path, error_bad_lines=False)\n",
    "train_data, eval_data, test_data = train_data.dropna(), eval_data.dropna(), test_data.dropna()\n",
    "train_data"
   ]
  },
  {
   "cell_type": "code",
   "execution_count": null,
   "id": "d8b20eac",
   "metadata": {},
   "outputs": [],
   "source": [
    "train_texts, train_labels = train_data['text'].tolist(), train_data['label'].tolist()\n",
    "eval_texts, eval_labels = eval_data['text'].tolist(), eval_data['label'].tolist()\n",
    "test_texts, test_labels = test_data['text'].tolist(), test_data['label'].tolist()"
   ]
  },
  {
   "cell_type": "code",
   "execution_count": null,
   "id": "3ed7732d",
   "metadata": {},
   "outputs": [],
   "source": [
    "class CustomDataset(torch.utils.data.Dataset):\n",
    "    def __init__(self, encodings, labels):\n",
    "        self.encodings = encodings\n",
    "        self.labels = labels\n",
    "    def __getitem__(self, idx):\n",
    "        item = {key: torch.tensor(val[idx]) for key, val in self.encodings.items()}\n",
    "        item['labels'] = torch.tensor(self.labels[idx])\n",
    "        return item\n",
    "    def __len__(self):\n",
    "        return len(self.labels)"
   ]
  },
  {
   "cell_type": "code",
   "execution_count": null,
   "id": "4f62e293",
   "metadata": {},
   "outputs": [],
   "source": [
    "from sklearn.metrics import accuracy_score, recall_score, precision_score, f1_score\n",
    "\n",
    "def compute_metrics(p):    \n",
    "    pred, labels = p\n",
    "    pred = np.argmax(pred, axis=1)\n",
    "    accuracy = accuracy_score(y_true=labels, y_pred=pred)\n",
    "    recall = recall_score(y_true=labels, y_pred=pred, average=\"weighted\")\n",
    "    precision = precision_score(y_true=labels, y_pred=pred, average=\"weighted\")\n",
    "    f1 = f1_score(y_true=labels, y_pred=pred, average=\"weighted\")\n",
    "    return {\"accuracy\": accuracy, \"precision\": precision, \"recall\": recall, \"f1\": f1}"
   ]
  },
  {
   "cell_type": "code",
   "execution_count": null,
   "id": "4558711b",
   "metadata": {
    "scrolled": false
   },
   "outputs": [],
   "source": [
    "from transformers import BertTokenizer, BertConfig, BertForSequenceClassification, EarlyStoppingCallback, Trainer, TrainingArguments\n",
    "\n",
    "predict, evaluate = {k: [] for k in model_map.keys()}, {k: [] for k in model_map.keys()}\n",
    "\n",
    "for model_name, model_dict in model_map.items():\n",
    "    tokenizer = BertTokenizer.from_pretrained(model_dict[\"tokenizer\"])\n",
    "    \n",
    "    train_encodings = tokenizer(train_texts, truncation=True, padding=True)\n",
    "    eval_encodings = tokenizer(eval_texts, truncation=True, padding=True)\n",
    "    test_encodings = tokenizer(test_texts, truncation=True, padding=True)\n",
    "    \n",
    "    train_dataset = CustomDataset(train_encodings, train_labels)\n",
    "    eval_dataset = CustomDataset(eval_encodings, eval_labels)\n",
    "    test_dataset = CustomDataset(test_encodings, test_labels)\n",
    "    \n",
    "    args = TrainingArguments(\n",
    "        output_dir=model_dict[\"output\"],\n",
    "        overwrite_output_dir=True,\n",
    "        logging_dir=model_dict[\"logs\"],\n",
    "        logging_steps=5000,\n",
    "        logging_strategy=\"steps\",\n",
    "        num_train_epochs=30,\n",
    "        per_device_train_batch_size=8,\n",
    "        per_device_eval_batch_size=8,\n",
    "        warmup_steps=5000,\n",
    "        weight_decay=0.01,\n",
    "        load_best_model_at_end=True,\n",
    "        evaluation_strategy=\"steps\",\n",
    "        eval_steps=5000,\n",
    "        save_steps=5000,\n",
    "        metric_for_best_model=\"loss\",\n",
    "        do_train=True,\n",
    "        do_eval=True,\n",
    "        do_predict=True\n",
    "    )\n",
    "    if model_name == \"bert-not-pretrained\":\n",
    "        config = BertConfig()\n",
    "        config.num_labels = len(set(train_labels))\n",
    "        config.vocab_size = tokenizer.vocab_size\n",
    "        model = BertForSequenceClassification(config)\n",
    "    else:\n",
    "        model = BertForSequenceClassification.from_pretrained(model_dict[\"model\"], num_labels=len(set(train_labels)))\n",
    "    trainer = Trainer(\n",
    "        model=model,\n",
    "        args=args,\n",
    "        callbacks = [EarlyStoppingCallback(early_stopping_patience=3)],\n",
    "        compute_metrics=compute_metrics,\n",
    "        train_dataset=train_dataset,\n",
    "        eval_dataset=eval_dataset\n",
    "    )\n",
    "    \n",
    "    trainer.train()\n",
    "    evaluate[model_name] = trainer.evaluate()\n",
    "    predict[model_name] = trainer.predict(eval_dataset)\n",
    "    \n",
    "    del tokenizer, model, args, trainer\n",
    "    gc.collect()\n",
    "    torch.cuda.empty_cache()"
   ]
  }
 ],
 "metadata": {
  "kernelspec": {
   "display_name": "venv",
   "language": "python",
   "name": "venv"
  },
  "language_info": {
   "codemirror_mode": {
    "name": "ipython",
    "version": 3
   },
   "file_extension": ".py",
   "mimetype": "text/x-python",
   "name": "python",
   "nbconvert_exporter": "python",
   "pygments_lexer": "ipython3",
   "version": "3.8.11"
  }
 },
 "nbformat": 4,
 "nbformat_minor": 5
}
